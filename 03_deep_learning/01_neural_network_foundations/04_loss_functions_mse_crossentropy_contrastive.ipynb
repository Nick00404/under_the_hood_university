{
    "cells": [
        {
            "cell_type": "markdown",
            "metadata": {},
            "source": [
                "# 📚 Table of Contents\n",
                "\n",
                "\n",
                "- [📉 Mean Squared Error (MSE) Loss](#mean-squared-error-mse-loss)\n",
                "  - [🔍 Understanding MSE as a loss function for regression](#understanding-mse-as-a-loss-function-for-regression)\n",
                "  - [📐 How to compute MSE and its derivatives](#how-to-compute-mse-and-its-derivatives)\n",
                "  - [⚙️ PyTorch/TensorFlow implementation of MSE](#pytorchtensorflow-implementation-of-mse)\n",
                "- [📊 Cross-Entropy Loss](#cross-entropy-loss)\n",
                "  - [❓ Why cross-entropy is used for classification tasks](#why-cross-entropy-is-used-for-classification-tasks)\n",
                "  - [🔄 Binary vs multiclass cross-entropy](#binary-vs-multiclass-cross-entropy)\n",
                "  - [📈 Softmax with cross-entropy loss function](#softmax-with-cross-entropy-loss-function)\n",
                "- [🔗 Contrastive Loss](#contrastive-loss)\n",
                "  - [🔍 What is contrastive loss and its use in metric learning](#what-is-contrastive-loss-and-its-use-in-metric-learning)\n",
                "  - [🧬 Understanding Siamese networks and how contrastive loss fits in](#understanding-siamese-networks-and-how-contrastive-loss-fits-in)\n",
                "  - [🛠️ Implementing contrastive loss with PyTorch/TensorFlow](#implementing-contrastive-loss-with-pytorchtensorflow)\n",
                "\n",
                "---\n",
                "\n"
            ]
        },
        {
            "cell_type": "markdown",
            "metadata": {},
            "source": [
                "\n",
                "### **1. Mean Squared Error (MSE) Loss**  \n",
                "**Focus:** Regression tasks, derivative calculation, framework implementations  \n",
                "```mermaid\n",
                "%%{init: {'theme': 'base', 'themeVariables': {'fontSize': '12px'}}}%%\n",
                "flowchart TD\n",
                "    subgraph MSE[\"MSE Components\"]\n",
                "        direction TB\n",
                "        \n",
                "        subgraph Formula[\"Mathematical Definition\"]\n",
                "            direction LR\n",
                "            F[[\"MSE = \\frac{1}{n} \\sum_{i=1}^n (y_i - \\hat{y}_i)^2\"]]:::blue\n",
                "        end\n",
                "\n",
                "        subgraph Derivative[\"Gradient Calculation\"]\n",
                "            direction LR\n",
                "            D[[\"\\frac{\\partial L}{\\partial \\hat{y}} = \\frac{2}{n} (\\hat{y} - y)\"]]:::orange\n",
                "        end\n",
                "\n",
                "        subgraph Code[\"Implementation\"]\n",
                "            direction LR\n",
                "            P[[\"PyTorch:\\nnn.MSELoss()\"]]:::pytorch\n",
                "            T[[\"TensorFlow:\\ntf.keras.losses.MSE\"]]:::tensorflow\n",
                "        end\n",
                "\n",
                "        Formula --> Derivative --> Code\n",
                "    end\n",
                "\n",
                "    classDef blue fill:#e6f3ff,stroke:#0066cc\n",
                "    classDef orange fill:#ffebcc,stroke:#ff9900\n",
                "    classDef pytorch fill:#ffe6e6,stroke:#cc0000\n",
                "    classDef tensorflow fill:#e6f3ff,stroke:#0066cc\n",
                "```\n",
                "\n",
                "---\n",
                "\n",
                "### **2. Cross-Entropy Loss**  \n",
                "**Focus:** Classification tasks, softmax connection, binary/multiclass variants  \n",
                "```mermaid\n",
                "%%{init: {'theme': 'base', 'themeVariables': {'fontSize': '12px'}}}%%\n",
                "flowchart TD\n",
                "    subgraph CE[\"Cross-Entropy Components\"]\n",
                "        direction TB\n",
                "\n",
                "        subgraph Types[\"Variants\"]\n",
                "            direction LR\n",
                "            B[[\"Binary CE:\\n-\\frac{1}{n} \\sum [y\\log(p) + (1-y)\\log(1-p)]\"]]:::green\n",
                "            M[[\"Multiclass CE:\\n-\\frac{1}{n} \\sum \\sum y_c\\log(p_c)\"]]:::darkgreen\n",
                "        end\n",
                "\n",
                "        subgraph Softmax[\"Softmax Layer\"]\n",
                "            S[[\"p_i = \\frac{e^{z_i}}{\\sum_j e^{z_j}}\"]]:::purple\n",
                "        end\n",
                "\n",
                "        subgraph Code[\"Implementation\"]\n",
                "            direction LR\n",
                "            P[[\"PyTorch:\\nnn.CrossEntropyLoss()\"]]:::pytorch\n",
                "            T[[\"TensorFlow:\\ntf.keras.losses.CategoricalCE\"]]:::tensorflow\n",
                "        end\n",
                "\n",
                "        Types --> Softmax --> Code\n",
                "    end\n",
                "\n",
                "    classDef green fill:#e6ffe6,stroke:#009900\n",
                "    classDef darkgreen fill:#ccffcc,stroke:#006600\n",
                "    classDef purple fill:#f0e6ff,stroke:#6600cc\n",
                "    classDef pytorch fill:#ffe6e6,stroke:#cc0000\n",
                "    classDef tensorflow fill:#e6f3ff,stroke:#0066cc\n",
                "```\n",
                "\n",
                "---\n",
                "\n",
                "### **3. Contrastive Loss**  \n",
                "**Focus:** Siamese networks, distance metrics, margin concept  \n",
                "```mermaid\n",
                "%%{init: {'theme': 'base', 'themeVariables': {'fontSize': '12px'}}}%%\n",
                "flowchart LR\n",
                "    subgraph CL[\"Contrastive Loss Components\"]\n",
                "        direction TB\n",
                "\n",
                "        subgraph Network[\"Siamese Architecture\"]\n",
                "            direction LR\n",
                "            A[Input A] --> E1[Embedding Net] --> EmbA[Embedding]\n",
                "            B[Input B] --> E2[Embedding Net] --> EmbB[Embedding]\n",
                "            style E1 stroke-dasharray:5 5\n",
                "            style E2 stroke-dasharray:5 5\n",
                "        end\n",
                "\n",
                "        subgraph Formula[\"Loss Calculation\"]\n",
                "            direction LR\n",
                "            D[[\"d = ||EmbA - EmbB||_2\"]]:::orange\n",
                "            L[[\"L = \\frac{1}{2N} \\sum [y\\cdot d^2 + (1-y)\\cdot \\max(margin-d, 0)^2]\"]]:::red\n",
                "        end\n",
                "\n",
                "        subgraph Code[\"Implementation\"]\n",
                "            direction LR\n",
                "            P[[\"PyTorch:\\nCustom Function\"]]:::pytorch\n",
                "            T[[\"TensorFlow:\\ntfa.losses.ContrastiveLoss\"]]:::tensorflow\n",
                "        end\n",
                "\n",
                "        Network --> Formula --> Code\n",
                "    end\n",
                "\n",
                "    classDef orange fill:#ffebcc,stroke:#ff9900\n",
                "    classDef red fill:#ffe6e6,stroke:#cc0000\n",
                "    classDef pytorch fill:#ffe6e6,stroke:#cc0000\n",
                "    classDef tensorflow fill:#e6f3ff,stroke:#0066cc\n",
                "```\n",
                "\n",
                "---\n"
            ]
        },
        {
            "cell_type": "markdown",
            "metadata": {},
            "source": [
                "\n",
                "# <a id=\"mean-squared-error-mse-loss\"></a>📉 Mean Squared Error (MSE) Loss\n",
                "\n",
                "\n"
            ]
        },
        {
            "cell_type": "markdown",
            "metadata": {},
            "source": [
                "\n",
                "# <a id=\"understanding-mse-as-a-loss-function-for-regression\"></a>🔍 Understanding MSE as a loss function for regression\n"
            ]
        },
        {
            "cell_type": "markdown",
            "metadata": {},
            "source": [
                "\n",
                "# <a id=\"how-to-compute-mse-and-its-derivatives\"></a>📐 How to compute MSE and its derivatives\n",
                "\n"
            ]
        },
        {
            "cell_type": "markdown",
            "metadata": {},
            "source": [
                "# <a id=\"pytorchtensorflow-implementation-of-mse\"></a>⚙️ PyTorch/TensorFlow implementation of MSE\n",
                "\n",
                "\n",
                "\n"
            ]
        },
        {
            "cell_type": "markdown",
            "metadata": {},
            "source": [
                "# <a id=\"cross-entropy-loss\"></a>📊 Cross-Entropy Loss\n",
                "\n"
            ]
        },
        {
            "cell_type": "markdown",
            "metadata": {},
            "source": [
                "# <a id=\"why-cross-entropy-is-used-for-classification-tasks\"></a>❓ Why cross-entropy is used for classification tasks\n",
                "\n"
            ]
        },
        {
            "cell_type": "markdown",
            "metadata": {},
            "source": [
                "# <a id=\"binary-vs-multiclass-cross-entropy\"></a>🔄 Binary vs multiclass cross-entropy\n",
                "\n"
            ]
        },
        {
            "cell_type": "markdown",
            "metadata": {},
            "source": [
                "# <a id=\"softmax-with-cross-entropy-loss-function\"></a>📈 Softmax with cross-entropy loss function\n",
                "\n",
                "\n",
                "\n",
                "\n"
            ]
        },
        {
            "cell_type": "markdown",
            "metadata": {},
            "source": [
                "# <a id=\"contrastive-loss\"></a>🔗 Contrastive Loss\n",
                "\n"
            ]
        },
        {
            "cell_type": "markdown",
            "metadata": {},
            "source": [
                "# <a id=\"what-is-contrastive-loss-and-its-use-in-metric-learning\"></a>🔍 What is contrastive loss and its use in metric learning\n",
                "\n"
            ]
        },
        {
            "cell_type": "markdown",
            "metadata": {},
            "source": [
                "# <a id=\"understanding-siamese-networks-and-how-contrastive-loss-fits-in\"></a>🧬 Understanding Siamese networks and how contrastive loss fits in\n"
            ]
        },
        {
            "cell_type": "markdown",
            "metadata": {},
            "source": [
                "# <a id=\"implementing-contrastive-loss-with-pytorchtensorflow\"></a>🛠️ Implementing contrastive loss with PyTorch/TensorFlow\n"
            ]
        }
    ],
    "metadata": {
        "language_info": {
            "name": "python"
        }
    },
    "nbformat": 4,
    "nbformat_minor": 2
}
