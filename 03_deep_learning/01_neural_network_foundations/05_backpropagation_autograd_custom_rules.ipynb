{
    "cells": [
        {
            "cell_type": "markdown",
            "metadata": {},
            "source": [
                "# 📚 Table of Contents\n",
                "\n",
                "- [🔄 Backpropagation Overview](#backpropagation-overview)\n",
                "  - [❓ What is backpropagation and how does it work?](#what-is-backpropagation-and-how-does-it-work)\n",
                "  - [🔗 Understanding the chain rule in neural networks](#understanding-the-chain-rule-in-neural-networks)\n",
                "  - [📥 Steps in the forward pass and backward pass](#steps-in-the-forward-pass-and-backward-pass)\n",
                "- [🧮 Autograd in PyTorch](#autograd-in-pytorch)\n",
                "  - [⚙️ PyTorch’s autograd mechanism: how it calculates gradients automatically](#pytorchs-autograd-mechanism-how-it-calculates-gradients-automatically)\n",
                "  - [📊 How `autograd` tracks operations and computes derivatives](#how-autograd-tracks-operations-and-computes-derivatives)\n",
                "  - [🧪 Practical example: Training a network using autograd](#practical-example-training-a-network-using-autograd)\n",
                "- [🔧 Custom Gradient Rules](#custom-gradient-rules)\n",
                "  - [🛠️ Implementing custom backpropagation rules in PyTorch](#implementing-custom-backpropagation-rules-in-pytorch)\n",
                "  - [🧰 Using `torch.autograd.Function` for custom gradient computation](#using-torchautogradfunction-for-custom-gradient-computation)\n",
                "  - [🧪 Example of defining custom gradient calculations](#example-of-defining-custom-gradient-calculations)\n",
                "\n",
                "---\n",
                "\n"
            ]
        },
        {
            "cell_type": "markdown",
            "metadata": {},
            "source": [
                "\n",
                "### **1. Backpropagation Overview (Fixed)**  \n",
                "```mermaid\n",
                "%%{init: {'theme': 'base', 'themeVariables': {'fontSize': '12px'}}}%%\n",
                "flowchart TD\n",
                "    subgraph Forward[\"Forward Pass (Data Flow)\"]\n",
                "        direction LR\n",
                "        X[Input] -->|\"Linear: W₁·X + b₁\"| L1[Hidden Layer]\n",
                "        L1 -->|\"ReLU: σ(z)\"| A1[Activation]\n",
                "        A1 -->|\"Linear: W₂·A1 + b₂\"| Y[Output]\n",
                "        Y --> Loss[[\"Loss = MSE(Y, Y_true\"]]\n",
                "    end\n",
                "\n",
                "    subgraph Backward[\"Backward Pass (Gradient Flow)\"]\n",
                "        direction RL\n",
                "        Loss -.-|∂Loss/∂Y| Y\n",
                "        Y -.-|\"∂Loss/∂W₂ = ∂Loss/∂Y · A₁ᵀ\"| W2[Weight W₂]\n",
                "        Y -.-|\"∂Loss/∂A1 = W₂ᵀ · ∂Loss/∂Y\"| A1\n",
                "        A1 -.-|\"∂Loss/∂L1 = ∂Loss/∂A1 · σ'(z)\"| L1\n",
                "        L1 -.-|\"∂Loss/∂W₁ = ∂Loss/∂L1 · Xᵀ\"| W1[Weight W₁]\n",
                "    end\n",
                "\n",
                "    classDef forward fill:#e6f3ff,stroke:#0066cc\n",
                "    classDef backward fill:#ffe6e6,stroke:#cc0000,stroke-dasharray:5,5\n",
                "    linkStyle 4,5,6,7,8 stroke:#cc0000,stroke-dasharray:5,5\n",
                "```\n",
                "\n",
                "### **2. Autograd in PyTorch (Fixed)**  \n",
                "```mermaid\n",
                "%%{init: {'theme': 'base', 'themeVariables': {'fontSize': '12px'}}}%%\n",
                "flowchart TD\n",
                "    subgraph Autograd[\"PyTorch Autograd Engine\"]\n",
                "        direction TB\n",
                "        x[(Input Tensor<br/>requires_grad=True)] -->|\"MatMul: W·x\"| z[Pre-activation]\n",
                "        z -->|ReLU| a[Activation]\n",
                "        a --> Loss[[\"Loss = (a - y)²\"]]\n",
                "\n",
                "        %% Gradient Computation\n",
                "        Loss -->|\"loss.backward()\"| Grads[[\"Gradients:<br/>∂Loss/∂W, ∂Loss/∂x\"]]\n",
                "        Grads -->|\"optimizer.step()\"| Update[Weight Update]\n",
                "\n",
                "        style x stroke:#009900\n",
                "        style Grads stroke:#cc0000\n",
                "    end\n",
                "\n",
                "    classDef tensor fill:#f0f0f0,stroke:#666\n",
                "    classDef op fill:#e6ffe6,stroke:#009900\n",
                "```\n",
                "\n",
                "---\n",
                "\n",
                "### **3. Custom Gradient Rules**  \n",
                "**Focus:** Defining custom backward logic with `torch.autograd.Function`  \n",
                "```mermaid\n",
                "%%{init: {'theme': 'base', 'themeVariables': {'fontSize': '12px'}}}%%\n",
                "flowchart TD\n",
                "    subgraph Custom[\"Custom Function Workflow\"]\n",
                "        direction TB\n",
                "        subgraph Function[\"CustomFunction(torch.autograd.Function)\"]\n",
                "            direction LR\n",
                "            Forward[[\"forward(ctx, x):\n",
                "  ctx.save_for_backward(x)\n",
                "  return x * 2\"]] --> Backward[[\"backward(ctx, grad):\n",
                "  x, = ctx.saved_tensors\n",
                "  return grad * 3\"]]\n",
                "        end\n",
                "\n",
                "        Input[Input Tensor] -->|CustomFunction.apply| Output[Output Tensor]\n",
                "        Output --> Loss\n",
                "        Loss -->|Backward| CustomGrad[[\"Custom Gradient: 3 × grad\"]]\n",
                "\n",
                "        style Forward fill:#f0f0f0,stroke:#666\n",
                "        style Backward fill:#ffe6e6,stroke:#cc0000\n",
                "    end\n",
                "\n",
                "    classDef code fill:#f0f0f0,stroke:#666\n",
                "    classDef grad fill:#ffe6e6,stroke:#cc0000\n",
                "```\n",
                "\n",
                "---\n",
                "\n"
            ]
        },
        {
            "cell_type": "markdown",
            "metadata": {},
            "source": [
                "\n",
                "# <a id=\"backpropagation-overview\"></a>🔄 Backpropagation Overview\n",
                "\n"
            ]
        },
        {
            "cell_type": "markdown",
            "metadata": {},
            "source": [
                "\n",
                "# <a id=\"what-is-backpropagation-and-how-does-it-work\"></a>❓ What is backpropagation and how does it work?\n",
                "\n"
            ]
        },
        {
            "cell_type": "markdown",
            "metadata": {},
            "source": [
                "# <a id=\"understanding-the-chain-rule-in-neural-networks\"></a>🔗 Understanding the chain rule in neural networks\n",
                "\n"
            ]
        },
        {
            "cell_type": "markdown",
            "metadata": {},
            "source": [
                "# <a id=\"steps-in-the-forward-pass-and-backward-pass\"></a>📥 Steps in the forward pass and backward pass\n",
                "\n",
                "\n",
                "\n"
            ]
        },
        {
            "cell_type": "markdown",
            "metadata": {},
            "source": [
                "# <a id=\"autograd-in-pytorch\"></a>🧮 Autograd in PyTorch\n",
                "\n",
                "\n"
            ]
        },
        {
            "cell_type": "markdown",
            "metadata": {},
            "source": [
                "# <a id=\"pytorchs-autograd-mechanism-how-it-calculates-gradients-automatically\"></a>⚙️ PyTorch’s autograd mechanism: how it calculates gradients automatically\n",
                "\n"
            ]
        },
        {
            "cell_type": "markdown",
            "metadata": {},
            "source": [
                "# <a id=\"how-autograd-tracks-operations-and-computes-derivatives\"></a>📊 How `autograd` tracks operations and computes derivatives\n",
                "\n"
            ]
        },
        {
            "cell_type": "markdown",
            "metadata": {},
            "source": [
                "# <a id=\"practical-example-training-a-network-using-autograd\"></a>🧪 Practical example: Training a network using autograd\n",
                "\n",
                "\n",
                "\n"
            ]
        },
        {
            "cell_type": "markdown",
            "metadata": {},
            "source": [
                "# <a id=\"custom-gradient-rules\"></a>🔧 Custom Gradient Rules\n",
                "\n"
            ]
        },
        {
            "cell_type": "markdown",
            "metadata": {},
            "source": [
                "# <a id=\"implementing-custom-backpropagation-rules-in-pytorch\"></a>🛠️ Implementing custom backpropagation rules in PyTorch\n",
                "\n"
            ]
        },
        {
            "cell_type": "markdown",
            "metadata": {},
            "source": [
                "# <a id=\"using-torchautogradfunction-for-custom-gradient-computation\"></a>🧰 Using `torch.autograd.Function` for custom gradient computation\n",
                "\n"
            ]
        },
        {
            "cell_type": "markdown",
            "metadata": {},
            "source": [
                "# <a id=\"example-of-defining-custom-gradient-calculations\"></a>🧪 Example of defining custom gradient calculations\n"
            ]
        }
    ],
    "metadata": {
        "language_info": {
            "name": "python"
        }
    },
    "nbformat": 4,
    "nbformat_minor": 2
}
